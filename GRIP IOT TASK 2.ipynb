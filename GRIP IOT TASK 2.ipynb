{
 "cells": [
  {
   "cell_type": "markdown",
   "id": "honest-teens",
   "metadata": {},
   "source": [
    "<h2 align=\"center\"><font color=6295DC>THE SPARKS FOUNDATION</font></h2>"
   ]
  },
  {
   "cell_type": "markdown",
   "id": "funky-contest",
   "metadata": {},
   "source": [
    "<h2 align=\"center\">Data Science and Buisness Analytics Tasks </h2>"
   ]
  },
  {
   "cell_type": "markdown",
   "id": "czech-witness",
   "metadata": {},
   "source": [
    "<h4 align=\"right\">NAME :<font color=6295DC> M.NIVETHITHAA</font></h4>"
   ]
  },
  {
   "cell_type": "markdown",
   "id": "revised-manhattan",
   "metadata": {},
   "source": [
    "<h2>Other Domain Tasks </h2>"
   ]
  },
  {
   "cell_type": "markdown",
   "id": "romantic-learning",
   "metadata": {},
   "source": [
    "<h2>TASK 2 - Color Identification in Images</h2>"
   ]
  },
  {
   "cell_type": "markdown",
   "id": "mighty-tradition",
   "metadata": {},
   "source": [
    "<h3>DATA AUDIT</h3>"
   ]
  },
  {
   "cell_type": "markdown",
   "id": "rapid-process",
   "metadata": {},
   "source": [
    "<h4>Importing Libraries</h4>"
   ]
  },
  {
   "cell_type": "code",
   "execution_count": 1,
   "id": "optical-costs",
   "metadata": {},
   "outputs": [],
   "source": [
    "import cv2\n",
    "import pandas as pd\n",
    "import numpy as np"
   ]
  },
  {
   "cell_type": "markdown",
   "id": "possible-market",
   "metadata": {},
   "source": [
    "<h4>Variable Declaration For Mouse Pointer Movement</h4>"
   ]
  },
  {
   "cell_type": "code",
   "execution_count": 2,
   "id": "gentle-shakespeare",
   "metadata": {},
   "outputs": [],
   "source": [
    "clicked = False\n",
    "r = g = b = xpos = ypos = 0"
   ]
  },
  {
   "cell_type": "markdown",
   "id": "liquid-cameroon",
   "metadata": {},
   "source": [
    "<h4>Reading image</h4>"
   ]
  },
  {
   "cell_type": "code",
   "execution_count": 3,
   "id": "blank-southwest",
   "metadata": {},
   "outputs": [],
   "source": [
    "img = cv2.imread(\"image.jpg\")"
   ]
  },
  {
   "cell_type": "markdown",
   "id": "express-elder",
   "metadata": {},
   "source": [
    "<h4>Taking colors data as input using Pandas</h4>"
   ]
  },
  {
   "cell_type": "code",
   "execution_count": 4,
   "id": "champion-match",
   "metadata": {},
   "outputs": [],
   "source": [
    "index = ['colors', 'color-names', 'hex-value', 'R-value', 'G-value', 'B-value'] \n",
    "df = pd.read_csv('colors.csv', names = index, header = None)"
   ]
  },
  {
   "cell_type": "markdown",
   "id": "collectible-perception",
   "metadata": {},
   "source": [
    "<h4>Selecting color</h4>"
   ]
  },
  {
   "cell_type": "code",
   "execution_count": 5,
   "id": "italic-discussion",
   "metadata": {},
   "outputs": [],
   "source": [
    "def selectColor(event, x, y , flags, param):\n",
    "    if event == cv2.EVENT_LBUTTONDBLCLK:\n",
    "        global b,g,r,xpos,ypos,clicked\n",
    "        clicked = True\n",
    "        xpos = x\n",
    "        ypos = y\n",
    "        b,g,r = img[y,x]\n",
    "        b = int(b)\n",
    "        g = int(g)\n",
    "        r = int(r)"
   ]
  },
  {
   "cell_type": "markdown",
   "id": "fewer-resident",
   "metadata": {},
   "source": [
    "<h4>Display Image</h4>"
   ]
  },
  {
   "cell_type": "code",
   "execution_count": 6,
   "id": "quiet-decline",
   "metadata": {},
   "outputs": [],
   "source": [
    "cv2.namedWindow('image')\n",
    "cv2.setMouseCallback('image',selectColor)"
   ]
  },
  {
   "cell_type": "markdown",
   "id": "behavioral-there",
   "metadata": {},
   "source": [
    "<h4>Getting color name of the selected area</h4>"
   ]
  },
  {
   "cell_type": "code",
   "execution_count": 7,
   "id": "central-garage",
   "metadata": {},
   "outputs": [],
   "source": [
    "def getColorName(R,G,B):\n",
    "    minimum = 10000\n",
    "    for i in range(len(df)):\n",
    "        d = abs(R-int(df.loc[i,'R-value']))+abs(G-int(df.loc[i,'G-value']))+abs(B-int(df.loc[i,'B-value']))\n",
    "        if d<=minimum:\n",
    "            minimum = d\n",
    "            colorName = df.loc[i,\"color-names\"]\n",
    "    return colorName"
   ]
  },
  {
   "cell_type": "markdown",
   "id": "upset-chancellor",
   "metadata": {},
   "source": [
    "<h4>Display name of the clicked color</h4>"
   ]
  },
  {
   "cell_type": "code",
   "execution_count": null,
   "id": "italic-testing",
   "metadata": {},
   "outputs": [],
   "source": [
    "while(1):\n",
    "    cv2.imshow('image',img)\n",
    "    if(clicked):\n",
    "        cv2.rectangle(img,(20,20),(750,60),(b,g,r),-1)\n",
    "        text = getColorName(r,g,b)\n",
    "        cv2.putText(img, text, (50,50),2,0.8,(0,0,0),2,cv2.LINE_AA)\n",
    "\n",
    "        if(r+g+b>=600):\n",
    "            cv2.putText(img, text,(50,50),2,0.8,(0,0,0),2,cv2.LINE_AA)\n",
    "        \n",
    "        clicked = False\n",
    "\n",
    "    # Exits when the user presses the 'Esc' button\n",
    "    if cv2.waitKey(20) & 0xFF ==27:\n",
    "        break\n",
    "\n",
    "# Clears all the windows       \n",
    "cv2.destroyAllWindows()"
   ]
  },
  {
   "cell_type": "code",
   "execution_count": null,
   "id": "every-anniversary",
   "metadata": {},
   "outputs": [],
   "source": []
  }
 ],
 "metadata": {
  "kernelspec": {
   "display_name": "Python 3",
   "language": "python",
   "name": "python3"
  },
  "language_info": {
   "codemirror_mode": {
    "name": "ipython",
    "version": 3
   },
   "file_extension": ".py",
   "mimetype": "text/x-python",
   "name": "python",
   "nbconvert_exporter": "python",
   "pygments_lexer": "ipython3",
   "version": "3.9.0"
  }
 },
 "nbformat": 4,
 "nbformat_minor": 5
}
